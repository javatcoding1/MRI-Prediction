{
  "cells": [
    {
      "cell_type": "markdown",
      "metadata": {
        "id": "view-in-github",
        "colab_type": "text"
      },
      "source": [
        "<a href=\"https://colab.research.google.com/github/javatcoding1/MRI-Prediction/blob/main/site/en/gemini-api/docs/vision.ipynb\" target=\"_parent\"><img src=\"https://colab.research.google.com/assets/colab-badge.svg\" alt=\"Open In Colab\"/></a>"
      ]
    },
    {
      "cell_type": "code",
      "execution_count": 3,
      "metadata": {
        "id": "mN8x8DPgu9Kv"
      },
      "outputs": [],
      "source": [
        "!pip install -q -U google-generativeai"
      ]
    },
    {
      "cell_type": "code",
      "execution_count": 4,
      "metadata": {
        "id": "0x3xmmWrDtEH"
      },
      "outputs": [],
      "source": [
        "import google.generativeai as genai\n",
        "from IPython.display import Markdown"
      ]
    },
    {
      "cell_type": "code",
      "execution_count": 5,
      "metadata": {
        "id": "d6lYXRcjthKV"
      },
      "outputs": [],
      "source": [
        "from google.colab import userdata\n",
        "GOOGLE_API_KEY=userdata.get('GOOGLE_API_KEY')\n",
        "\n",
        "genai.configure(api_key=GOOGLE_API_KEY)"
      ]
    },
    {
      "cell_type": "code",
      "execution_count": 10,
      "metadata": {
        "id": "aa9a0e452544",
        "colab": {
          "base_uri": "https://localhost:8080/",
          "height": 216
        },
        "outputId": "f664090e-f8f3-448b-e73f-49607edd7c30"
      },
      "outputs": [
        {
          "output_type": "stream",
          "name": "stdout",
          "text": [
            "- **Scan Type:** CT Scan\n",
            "- **Organ:** Lung\n",
            "- **Tumor Type:** Cannot be determined from image alone.  Requires biopsy and pathology. Possibly a lung mass.\n",
            "- **Tumor Subclass:** Cannot be determined from image alone.\n",
            "- **Detailed Description:** A large mass is present in the anterior mediastinum, possibly arising from or invading the anterior portion of the right lung. Precise size and shape require measurements from the scan data.  The density of the mass cannot be fully characterized from this single image.\n",
            "- **Possible Causes:** Cannot be determined from image alone. Lung cancer can be caused by smoking, exposure to radon or asbestos, family history of lung cancer, air pollution, and other factors.  Mediastinal masses can arise from lymphoma, thymoma, germ cell tumors and other entities.\n",
            "- **Clinical Insights:** Further investigation is absolutely required including biopsy/tissue sampling to confirm the diagnosis, assess malignancy, and guide treatment.  Additional imaging, such as PET/CT, may be needed for staging if malignancy is confirmed.  Pulmonary function tests may be indicated.\n",
            "\n",
            "Scan Type: - **** CT Scan\n",
            "Organ Type: - **** Lung\n"
          ]
        }
      ],
      "source": [
        "import httpx\n",
        "import base64\n",
        "import mimetypes\n",
        "\n",
        "# Path to the image\n",
        "image_path = \"/content/images.jpeg\"  # Replace with any image\n",
        "\n",
        "# Detect MIME type dynamically\n",
        "mime_type = mimetypes.guess_type(image_path)[0] or \"image/jpeg\"  # Default to JPEG if unknown\n",
        "\n",
        "# Read image file as binary data\n",
        "with open(image_path, \"rb\") as image_file:\n",
        "    image_data = image_file.read()\n",
        "\n",
        "# Choose a Gemini model\n",
        "model = genai.GenerativeModel(model_name=\"gemini-1.5-pro\")\n",
        "\n",
        "# System prompt for structured output\n",
        "prompt = \"\"\"You are analyzing a medical scan image. Provide the following structured output:\n",
        "\n",
        "- **Scan Type:** (e.g., MRI, CT Scan, X-ray)\n",
        "- **Organ:** (e.g., Brain, Lung, Heart,Breast)\n",
        "- **Tumor Type:** (If detected, specify type)\n",
        "- **Tumor Subclass:** (If applicable)\n",
        "- **Detailed Description:** (Size, shape, and location if possible)\n",
        "- **Possible Causes:** (List genetic factors, environmental exposure, lifestyle)\n",
        "- **Clinical Insights:** (Any relevant medical observations)\n",
        "\n",
        "Ensure the output is structured in plain text without any extra information or unrelated content.\"\"\"\n",
        "\n",
        "# Generate response\n",
        "response = model.generate_content(\n",
        "    [\n",
        "        {\n",
        "            \"mime_type\": mime_type,\n",
        "            \"data\": base64.b64encode(image_data).decode(\"utf-8\"),\n",
        "        },\n",
        "        prompt,\n",
        "    ]\n",
        ")\n",
        "\n",
        "# Extract response text\n",
        "response_text = response.text\n",
        "\n",
        "# Print the structured response\n",
        "print(response_text)\n",
        "\n",
        "# Extract specific values (optional)\n",
        "lines = response_text.split(\"\\n\")\n",
        "scan_type = lines[0].replace(\"Scan Type:\", \"\").strip() if len(lines) > 0 else \"Unknown\"\n",
        "organ_type = lines[1].replace(\"Organ:\", \"\").strip() if len(lines) > 1 else \"Unknown\"\n",
        "\n",
        "# Print extracted values (for further use)\n",
        "print(\"Scan Type:\", scan_type)\n",
        "print(\"Organ Type:\", organ_type)\n"
      ]
    },
    {
      "cell_type": "markdown",
      "metadata": {
        "id": "f47333dabe62"
      },
      "source": [
        "### Multiple images\n",
        "\n",
        "To prompt with multiple images in Base64 encoded format, you can do the\n",
        "following:"
      ]
    },
    {
      "cell_type": "code",
      "execution_count": 8,
      "metadata": {
        "id": "2816ea3d2d91",
        "colab": {
          "base_uri": "https://localhost:8080/",
          "height": 35
        },
        "outputId": "ef6dcd06-9a03-4e91-b0d2-42978f809f4a"
      },
      "outputs": [
        {
          "output_type": "execute_result",
          "data": {
            "text/plain": [
              "'- **** Lung'"
            ],
            "application/vnd.google.colaboratory.intrinsic+json": {
              "type": "string"
            }
          },
          "metadata": {},
          "execution_count": 8
        }
      ],
      "source": [
        "organ_type"
      ]
    },
    {
      "cell_type": "code",
      "source": [
        "if organ_type == \"- **** Brain\":\n",
        "  import tensorflow as tf\n",
        "  import numpy as np\n",
        "  from tensorflow.keras.models import load_model\n",
        "  from tensorflow.keras.preprocessing import image\n",
        "\n",
        "  # Load the trained model\n",
        "  model = load_model(\"brain_model.h5\")\n",
        "\n",
        "  # Model summary (optional, to verify)\n",
        "  model.summary()\n",
        "\n",
        "  # Function to preprocess an input image\n",
        "  def preprocess_image(img_path):\n",
        "      img_size = (299, 299)  # Match model's input shape\n",
        "      img = image.load_img(img_path, target_size=img_size)\n",
        "      img_array = image.img_to_array(img)  # Convert to numpy array\n",
        "      img_array = np.expand_dims(img_array, axis=0)  # Add batch dimension\n",
        "      img_array = tf.keras.applications.xception.preprocess_input(img_array)  # Apply Xception preprocessing\n",
        "      return img_array\n",
        "\n",
        "  # Load and preprocess an MRI image\n",
        "  img_path = \"/content/men.jpeg\"  # Replace with your image path\n",
        "  processed_img = preprocess_image(img_path)\n",
        "\n",
        "  # Perform prediction\n",
        "  predictions = model.predict(processed_img)\n",
        "\n",
        "  # Decode predictions (assuming 4 classes)\n",
        "  class_labels = [\"Class 1\", \"Class 2\", \"Class 3\", \"Class 4\"]  # Replace with actual class names\n",
        "  predicted_class = class_labels[np.argmax(predictions)]\n",
        "\n",
        "  # Print results\n",
        "  print(\"Predicted Class:\", predicted_class)\n",
        "  print(\"Prediction Probabilities:\", predictions)\n",
        "elif organ_type==\"- **** Lung\":\n",
        "  import tensorflow as tf\n",
        "  import numpy as np\n",
        "  from tensorflow.keras.models import load_model\n",
        "  from tensorflow.keras.preprocessing import image\n",
        "\n",
        "  model = load_model(\"/content/lung_tumor.h5\")  # Replace with your actual .h5 file path\n",
        "  IMG_WIDTH = 224  # Update this based on your model training\n",
        "  IMG_HEIGHT = 224\n",
        "\n",
        "  def preprocess_image(img_path):\n",
        "      img = image.load_img(img_path, target_size=(IMG_WIDTH, IMG_HEIGHT))\n",
        "      img_array = image.img_to_array(img)\n",
        "      img_array = np.expand_dims(img_array, axis=0)  # Add batch dimension\n",
        "      img_array = img_array / 255.0  # Normalize (if your model was trained with normalization)\n",
        "      return img_array\n",
        "  img_path = \"/content/images.jpeg\"  # Replace with the path of the image you want to classify\n",
        "  img_array = preprocess_image(img_path)\n",
        "\n",
        "  prediction = model.predict(img_array)\n",
        "  predicted_class = np.argmax(prediction, axis=1)  # Get class with highest probability\n",
        "\n",
        "  print(f\"Predicted Class: {predicted_class}\")\n",
        "  class_labels = [\"Benign\", \"Malignant\", \"Normal\"]  # Adjust based on your dataset\n",
        "  print(f\"Predicted Class: {class_labels[predicted_class[0]]}\")\n",
        "\n",
        "\n",
        "\n",
        "\n",
        "else:\n",
        "  import tensorflow as tf\n",
        "  from tensorflow.keras.models import load_model\n",
        "  from tensorflow.keras.preprocessing import image\n",
        "  import numpy as np\n",
        "\n",
        "  # Load the trained model\n",
        "  model = load_model(\"/content/breast_tumor.h5\")  # Ensure the correct file path\n",
        "\n",
        "  # Function to preprocess input image\n",
        "  def preprocess_image(img_path):\n",
        "      img = image.load_img(img_path, target_size=(244, 244))  # Resize to match model input\n",
        "      img_array = image.img_to_array(img)\n",
        "      img_array = np.expand_dims(img_array, axis=0)  # Add batch dimension\n",
        "      img_array = img_array / 255.0  # Normalize pixel values\n",
        "      return img_array\n",
        "\n",
        "  # Path to the test image\n",
        "  img_path = \"/content/SOB_M_DC-14-2523-400-005.png\"  # Change this to your actual image path\n",
        "\n",
        "  # Preprocess and predict\n",
        "  img_array = preprocess_image(img_path)\n",
        "  prediction = model.predict(img_array)\n",
        "\n",
        "  # Interpret the results\n",
        "  class_labels = [\"Benign\", \"Malignant\"]  # Adjust labels if different\n",
        "  predicted_class = np.argmax(prediction)  # Get class index\n",
        "\n",
        "  print(f\"Predicted Class: {class_labels[predicted_class]}\")\n",
        "  print(f\"Confidence Scores: {prediction}\")\n"
      ],
      "metadata": {
        "colab": {
          "base_uri": "https://localhost:8080/"
        },
        "id": "lH7gFC7jmaKU",
        "outputId": "a15aaf2b-44b3-4b9b-c045-add6e950ea81"
      },
      "execution_count": 12,
      "outputs": [
        {
          "output_type": "stream",
          "name": "stderr",
          "text": [
            "WARNING:absl:Compiled the loaded model, but the compiled metrics have yet to be built. `model.compile_metrics` will be empty until you train or evaluate the model.\n",
            "WARNING:tensorflow:5 out of the last 5 calls to <function TensorFlowTrainer.make_predict_function.<locals>.one_step_on_data_distributed at 0x7c10375cd260> triggered tf.function retracing. Tracing is expensive and the excessive number of tracings could be due to (1) creating @tf.function repeatedly in a loop, (2) passing tensors with different shapes, (3) passing Python objects instead of tensors. For (1), please define your @tf.function outside of the loop. For (2), @tf.function has reduce_retracing=True option that can avoid unnecessary retracing. For (3), please refer to https://www.tensorflow.org/guide/function#controlling_retracing and https://www.tensorflow.org/api_docs/python/tf/function for  more details.\n"
          ]
        },
        {
          "output_type": "stream",
          "name": "stdout",
          "text": [
            "\u001b[1m1/1\u001b[0m \u001b[32m━━━━━━━━━━━━━━━━━━━━\u001b[0m\u001b[37m\u001b[0m \u001b[1m1s\u001b[0m 550ms/step\n",
            "Predicted Class: [1]\n",
            "Predicted Class: Malignant\n"
          ]
        }
      ]
    },
    {
      "cell_type": "code",
      "execution_count": 2,
      "metadata": {
        "id": "XzMhQ8MWub5_",
        "outputId": "d2d9c104-3a71-4114-93e7-425e4a8ee56a",
        "colab": {
          "base_uri": "https://localhost:8080/"
        }
      },
      "outputs": [
        {
          "output_type": "stream",
          "name": "stderr",
          "text": [
            "WARNING:absl:Compiled the loaded model, but the compiled metrics have yet to be built. `model.compile_metrics` will be empty until you train or evaluate the model.\n"
          ]
        },
        {
          "output_type": "stream",
          "name": "stdout",
          "text": [
            "\u001b[1m1/1\u001b[0m \u001b[32m━━━━━━━━━━━━━━━━━━━━\u001b[0m\u001b[37m\u001b[0m \u001b[1m1s\u001b[0m 742ms/step\n",
            "Predicted Class: [1]\n",
            "Predicted Class: Malignant\n"
          ]
        }
      ],
      "source": [
        "import numpy as np\n",
        "from tensorflow.keras.models import load_model\n",
        "from tensorflow.keras.preprocessing import image\n",
        "\n",
        "model = load_model(\"/content/lung_tumor.h5\")  # Replace with your actual .h5 file path\n",
        "IMG_WIDTH = 224  # Update this based on your model training\n",
        "IMG_HEIGHT = 224\n",
        "\n",
        "def preprocess_image(img_path):\n",
        "    img = image.load_img(img_path, target_size=(IMG_WIDTH, IMG_HEIGHT))\n",
        "    img_array = image.img_to_array(img)\n",
        "    img_array = np.expand_dims(img_array, axis=0)  # Add batch dimension\n",
        "    img_array = img_array / 255.0  # Normalize (if your model was trained with normalization)\n",
        "    return img_array\n",
        "img_path = \"/content/images.jpeg\"  # Replace with the path of the image you want to classify\n",
        "img_array = preprocess_image(img_path)\n",
        "\n",
        "prediction = model.predict(img_array)\n",
        "predicted_class = np.argmax(prediction, axis=1)  # Get class with highest probability\n",
        "\n",
        "print(f\"Predicted Class: {predicted_class}\")\n",
        "class_labels = [\"Benign\", \"Malignant\", \"Normal\"]  # Adjust based on your dataset\n",
        "print(f\"Predicted Class: {class_labels[predicted_class[0]]}\")\n"
      ]
    },
    {
      "cell_type": "code",
      "source": [],
      "metadata": {
        "id": "NrNqs4z8JOzP"
      },
      "execution_count": null,
      "outputs": []
    }
  ],
  "metadata": {
    "colab": {
      "name": "vision.ipynb",
      "provenance": [],
      "gpuType": "T4",
      "include_colab_link": true
    },
    "kernelspec": {
      "display_name": "Python 3",
      "name": "python3"
    },
    "accelerator": "GPU"
  },
  "nbformat": 4,
  "nbformat_minor": 0
}